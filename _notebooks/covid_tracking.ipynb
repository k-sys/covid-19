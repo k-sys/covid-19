{
 "cells": [
  {
   "cell_type": "code",
   "execution_count": 1,
   "metadata": {
    "execution": {
     "iopub.execute_input": "2020-04-16T05:33:45.196205Z",
     "iopub.status.busy": "2020-04-16T05:33:45.195526Z",
     "iopub.status.idle": "2020-04-16T05:33:49.985543Z",
     "shell.execute_reply": "2020-04-16T05:33:49.984584Z"
    },
    "papermill": {
     "duration": 4.810875,
     "end_time": "2020-04-16T05:33:49.985673",
     "exception": false,
     "start_time": "2020-04-16T05:33:45.174798",
     "status": "completed"
    },
    "tags": []
   },
   "outputs": [],
   "source": [
    "import pandas as pd\n",
    "import seaborn as sns\n",
    "import matplotlib.pyplot as plt"
   ]
  },
  {
   "cell_type": "code",
   "execution_count": 2,
   "metadata": {
    "execution": {
     "iopub.execute_input": "2020-04-16T05:33:50.023273Z",
     "iopub.status.busy": "2020-04-16T05:33:50.022635Z",
     "iopub.status.idle": "2020-04-16T05:33:50.676534Z",
     "shell.execute_reply": "2020-04-16T05:33:50.677063Z"
    },
    "papermill": {
     "duration": 0.676644,
     "end_time": "2020-04-16T05:33:50.677215",
     "exception": false,
     "start_time": "2020-04-16T05:33:50.000571",
     "status": "completed"
    },
    "tags": []
   },
   "outputs": [],
   "source": [
    "df = pd.read_csv('http://covidtracking.com/api/states/daily.csv')\n",
    "states = df.state.unique()\n",
    "\n",
    "dfk = pd.DataFrame()\n",
    "for s in states:\n",
    "    dfs = df[df.state==s].copy()\n",
    "    dfs['tested'] = dfs['positive'] + dfs['negative']\n",
    "    dfs['daily_positive_increase'] = dfs['positive'].diff(periods=-1)\n",
    "    dfs['daily_death_increase'] = dfs['death'].diff(periods=-1)\n",
    "    dfs['daily_tested_increase'] = dfs['tested'].diff(periods=-1)\n",
    "    dfk = dfk.append(dfs)\n",
    "    \n",
    "dfk = dfk.fillna(0)\n",
    "df_la = dfk[dfk.state==\"LA\"]"
   ]
  },
  {
   "cell_type": "code",
   "execution_count": 3,
   "metadata": {
    "execution": {
     "iopub.execute_input": "2020-04-16T05:33:50.717375Z",
     "iopub.status.busy": "2020-04-16T05:33:50.709615Z",
     "iopub.status.idle": "2020-04-16T05:33:50.738374Z",
     "shell.execute_reply": "2020-04-16T05:33:50.738870Z"
    },
    "papermill": {
     "duration": 0.050133,
     "end_time": "2020-04-16T05:33:50.739002",
     "exception": false,
     "start_time": "2020-04-16T05:33:50.688869",
     "status": "completed"
    },
    "tags": []
   },
   "outputs": [
    {
     "data": {
      "text/html": [
       "<div>\n",
       "<style scoped>\n",
       "    .dataframe tbody tr th:only-of-type {\n",
       "        vertical-align: middle;\n",
       "    }\n",
       "\n",
       "    .dataframe tbody tr th {\n",
       "        vertical-align: top;\n",
       "    }\n",
       "\n",
       "    .dataframe thead th {\n",
       "        text-align: right;\n",
       "    }\n",
       "</style>\n",
       "<table border=\"1\" class=\"dataframe\">\n",
       "  <thead>\n",
       "    <tr style=\"text-align: right;\">\n",
       "      <th></th>\n",
       "      <th>date</th>\n",
       "      <th>state</th>\n",
       "      <th>positive</th>\n",
       "      <th>negative</th>\n",
       "      <th>pending</th>\n",
       "      <th>hospitalizedCurrently</th>\n",
       "      <th>hospitalizedCumulative</th>\n",
       "      <th>inIcuCurrently</th>\n",
       "      <th>inIcuCumulative</th>\n",
       "      <th>onVentilatorCurrently</th>\n",
       "      <th>...</th>\n",
       "      <th>fips</th>\n",
       "      <th>deathIncrease</th>\n",
       "      <th>hospitalizedIncrease</th>\n",
       "      <th>negativeIncrease</th>\n",
       "      <th>positiveIncrease</th>\n",
       "      <th>totalTestResultsIncrease</th>\n",
       "      <th>tested</th>\n",
       "      <th>daily_positive_increase</th>\n",
       "      <th>daily_death_increase</th>\n",
       "      <th>daily_tested_increase</th>\n",
       "    </tr>\n",
       "  </thead>\n",
       "  <tbody>\n",
       "    <tr>\n",
       "      <th>20</th>\n",
       "      <td>20200415</td>\n",
       "      <td>LA</td>\n",
       "      <td>21951.0</td>\n",
       "      <td>99977.0</td>\n",
       "      <td>0.0</td>\n",
       "      <td>1943.0</td>\n",
       "      <td>0.0</td>\n",
       "      <td>0.0</td>\n",
       "      <td>0.0</td>\n",
       "      <td>425.0</td>\n",
       "      <td>...</td>\n",
       "      <td>22</td>\n",
       "      <td>90.0</td>\n",
       "      <td>0.0</td>\n",
       "      <td>3073.0</td>\n",
       "      <td>433.0</td>\n",
       "      <td>3506.0</td>\n",
       "      <td>121928.0</td>\n",
       "      <td>433.0</td>\n",
       "      <td>90.0</td>\n",
       "      <td>3506.0</td>\n",
       "    </tr>\n",
       "    <tr>\n",
       "      <th>76</th>\n",
       "      <td>20200414</td>\n",
       "      <td>LA</td>\n",
       "      <td>21518.0</td>\n",
       "      <td>96904.0</td>\n",
       "      <td>0.0</td>\n",
       "      <td>1977.0</td>\n",
       "      <td>0.0</td>\n",
       "      <td>0.0</td>\n",
       "      <td>0.0</td>\n",
       "      <td>436.0</td>\n",
       "      <td>...</td>\n",
       "      <td>22</td>\n",
       "      <td>129.0</td>\n",
       "      <td>0.0</td>\n",
       "      <td>9829.0</td>\n",
       "      <td>502.0</td>\n",
       "      <td>10331.0</td>\n",
       "      <td>118422.0</td>\n",
       "      <td>502.0</td>\n",
       "      <td>129.0</td>\n",
       "      <td>10331.0</td>\n",
       "    </tr>\n",
       "    <tr>\n",
       "      <th>132</th>\n",
       "      <td>20200413</td>\n",
       "      <td>LA</td>\n",
       "      <td>21016.0</td>\n",
       "      <td>87075.0</td>\n",
       "      <td>0.0</td>\n",
       "      <td>2134.0</td>\n",
       "      <td>0.0</td>\n",
       "      <td>0.0</td>\n",
       "      <td>0.0</td>\n",
       "      <td>461.0</td>\n",
       "      <td>...</td>\n",
       "      <td>22</td>\n",
       "      <td>44.0</td>\n",
       "      <td>0.0</td>\n",
       "      <td>3625.0</td>\n",
       "      <td>421.0</td>\n",
       "      <td>4046.0</td>\n",
       "      <td>108091.0</td>\n",
       "      <td>421.0</td>\n",
       "      <td>44.0</td>\n",
       "      <td>4046.0</td>\n",
       "    </tr>\n",
       "    <tr>\n",
       "      <th>188</th>\n",
       "      <td>20200412</td>\n",
       "      <td>LA</td>\n",
       "      <td>20595.0</td>\n",
       "      <td>83450.0</td>\n",
       "      <td>0.0</td>\n",
       "      <td>2084.0</td>\n",
       "      <td>0.0</td>\n",
       "      <td>0.0</td>\n",
       "      <td>0.0</td>\n",
       "      <td>458.0</td>\n",
       "      <td>...</td>\n",
       "      <td>22</td>\n",
       "      <td>34.0</td>\n",
       "      <td>0.0</td>\n",
       "      <td>6549.0</td>\n",
       "      <td>581.0</td>\n",
       "      <td>7130.0</td>\n",
       "      <td>104045.0</td>\n",
       "      <td>581.0</td>\n",
       "      <td>34.0</td>\n",
       "      <td>7130.0</td>\n",
       "    </tr>\n",
       "    <tr>\n",
       "      <th>244</th>\n",
       "      <td>20200411</td>\n",
       "      <td>LA</td>\n",
       "      <td>20014.0</td>\n",
       "      <td>76901.0</td>\n",
       "      <td>0.0</td>\n",
       "      <td>2067.0</td>\n",
       "      <td>0.0</td>\n",
       "      <td>0.0</td>\n",
       "      <td>0.0</td>\n",
       "      <td>470.0</td>\n",
       "      <td>...</td>\n",
       "      <td>22</td>\n",
       "      <td>51.0</td>\n",
       "      <td>0.0</td>\n",
       "      <td>3874.0</td>\n",
       "      <td>761.0</td>\n",
       "      <td>4635.0</td>\n",
       "      <td>96915.0</td>\n",
       "      <td>761.0</td>\n",
       "      <td>51.0</td>\n",
       "      <td>4635.0</td>\n",
       "    </tr>\n",
       "  </tbody>\n",
       "</table>\n",
       "<p>5 rows × 29 columns</p>\n",
       "</div>"
      ],
      "text/plain": [
       "         date state  positive  negative  pending  hospitalizedCurrently  \\\n",
       "20   20200415    LA   21951.0   99977.0      0.0                 1943.0   \n",
       "76   20200414    LA   21518.0   96904.0      0.0                 1977.0   \n",
       "132  20200413    LA   21016.0   87075.0      0.0                 2134.0   \n",
       "188  20200412    LA   20595.0   83450.0      0.0                 2084.0   \n",
       "244  20200411    LA   20014.0   76901.0      0.0                 2067.0   \n",
       "\n",
       "     hospitalizedCumulative  inIcuCurrently  inIcuCumulative  \\\n",
       "20                      0.0             0.0              0.0   \n",
       "76                      0.0             0.0              0.0   \n",
       "132                     0.0             0.0              0.0   \n",
       "188                     0.0             0.0              0.0   \n",
       "244                     0.0             0.0              0.0   \n",
       "\n",
       "     onVentilatorCurrently  ...  fips  deathIncrease hospitalizedIncrease  \\\n",
       "20                   425.0  ...    22           90.0                  0.0   \n",
       "76                   436.0  ...    22          129.0                  0.0   \n",
       "132                  461.0  ...    22           44.0                  0.0   \n",
       "188                  458.0  ...    22           34.0                  0.0   \n",
       "244                  470.0  ...    22           51.0                  0.0   \n",
       "\n",
       "    negativeIncrease  positiveIncrease  totalTestResultsIncrease    tested  \\\n",
       "20            3073.0             433.0                    3506.0  121928.0   \n",
       "76            9829.0             502.0                   10331.0  118422.0   \n",
       "132           3625.0             421.0                    4046.0  108091.0   \n",
       "188           6549.0             581.0                    7130.0  104045.0   \n",
       "244           3874.0             761.0                    4635.0   96915.0   \n",
       "\n",
       "     daily_positive_increase  daily_death_increase  daily_tested_increase  \n",
       "20                     433.0                  90.0                 3506.0  \n",
       "76                     502.0                 129.0                10331.0  \n",
       "132                    421.0                  44.0                 4046.0  \n",
       "188                    581.0                  34.0                 7130.0  \n",
       "244                    761.0                  51.0                 4635.0  \n",
       "\n",
       "[5 rows x 29 columns]"
      ]
     },
     "execution_count": 3,
     "metadata": {},
     "output_type": "execute_result"
    }
   ],
   "source": [
    "df_la.head()"
   ]
  },
  {
   "cell_type": "code",
   "execution_count": 4,
   "metadata": {
    "execution": {
     "iopub.execute_input": "2020-04-16T05:33:50.768296Z",
     "iopub.status.busy": "2020-04-16T05:33:50.767585Z",
     "iopub.status.idle": "2020-04-16T05:33:51.642470Z",
     "shell.execute_reply": "2020-04-16T05:33:51.642929Z"
    },
    "papermill": {
     "duration": 0.892373,
     "end_time": "2020-04-16T05:33:51.643102",
     "exception": false,
     "start_time": "2020-04-16T05:33:50.750729",
     "status": "completed"
    },
    "tags": []
   },
   "outputs": [
    {
     "data": {
      "image/png": "[encoded data removed]",
      "text/plain": [
       "<Figure size 842.4x595.44 with 1 Axes>"
      ]
     },
     "metadata": {},
     "output_type": "display_data"
    }
   ],
   "source": [
    "sns.set(rc={'figure.figsize':(11.7,8.27)})\n",
    "ax = sns.barplot(x='date', y= 'daily_positive_increase', data=df_la)\n",
    "ax.set_xticklabels(ax.get_xticklabels(), rotation=40, ha=\"right\")\n",
    "plt.tight_layout()\n",
    "plt.show()"
   ]
  },
  {
   "cell_type": "code",
   "execution_count": 5,
   "metadata": {
    "execution": {
     "iopub.execute_input": "2020-04-16T05:33:51.679474Z",
     "iopub.status.busy": "2020-04-16T05:33:51.678833Z",
     "iopub.status.idle": "2020-04-16T05:33:51.682307Z",
     "shell.execute_reply": "2020-04-16T05:33:51.681745Z"
    },
    "papermill": {
     "duration": 0.02516,
     "end_time": "2020-04-16T05:33:51.682438",
     "exception": false,
     "start_time": "2020-04-16T05:33:51.657278",
     "status": "completed"
    },
    "tags": []
   },
   "outputs": [
    {
     "data": {
      "text/plain": [
       "date                                                        20200415\n",
       "state                                                             OR\n",
       "positive                                                        1663\n",
       "negative                                                       31688\n",
       "pending                                                            0\n",
       "hospitalizedCurrently                                            305\n",
       "hospitalizedCumulative                                           401\n",
       "inIcuCurrently                                                    95\n",
       "inIcuCumulative                                                    0\n",
       "onVentilatorCurrently                                             43\n",
       "onVentilatorCumulative                                             0\n",
       "recovered                                                          0\n",
       "hash                        c6fed9f1fa421f55707f0ddac96736083ab45ee8\n",
       "dateChecked                                     2020-04-15T20:00:00Z\n",
       "death                                                             58\n",
       "hospitalized                                                     401\n",
       "total                                                          33351\n",
       "totalTestResults                                               33351\n",
       "posNeg                                                         33351\n",
       "fips                                                              41\n",
       "deathIncrease                                                      3\n",
       "hospitalizedIncrease                                              20\n",
       "negativeIncrease                                                 958\n",
       "positiveIncrease                                                  30\n",
       "totalTestResultsIncrease                                         988\n",
       "tested                                                         33351\n",
       "daily_positive_increase                                           30\n",
       "daily_death_increase                                               3\n",
       "daily_tested_increase                                            988\n",
       "Name: 40, dtype: object"
      ]
     },
     "execution_count": 5,
     "metadata": {},
     "output_type": "execute_result"
    }
   ],
   "source": [
    "dfk[dfk.state==\"OR\"].iloc[0]"
   ]
  },
  {
   "cell_type": "code",
   "execution_count": 6,
   "metadata": {
    "execution": {
     "iopub.execute_input": "2020-04-16T05:33:51.714919Z",
     "iopub.status.busy": "2020-04-16T05:33:51.714107Z",
     "iopub.status.idle": "2020-04-16T05:33:51.799461Z",
     "shell.execute_reply": "2020-04-16T05:33:51.798894Z"
    },
    "papermill": {
     "duration": 0.103904,
     "end_time": "2020-04-16T05:33:51.799584",
     "exception": false,
     "start_time": "2020-04-16T05:33:51.695680",
     "status": "completed"
    },
    "tags": []
   },
   "outputs": [],
   "source": [
    "import pandas as pd\n",
    "import datetime\n",
    "base_url=\"https://raw.githubusercontent.com/CSSEGISandData/COVID-19/master/csse_covid_19_data/csse_covid_19_daily_reports/\"\n",
    "yesterday = f\"{datetime.datetime.now() - datetime.timedelta(days=1):%m-%d-%Y}\"\n",
    "full_url = f\"{base_url}{yesterday}.csv\"\n",
    "df = pd.read_csv(full_url)"
   ]
  },
  {
   "cell_type": "code",
   "execution_count": 7,
   "metadata": {
    "execution": {
     "iopub.execute_input": "2020-04-16T05:33:51.848692Z",
     "iopub.status.busy": "2020-04-16T05:33:51.847924Z",
     "iopub.status.idle": "2020-04-16T05:33:51.851910Z",
     "shell.execute_reply": "2020-04-16T05:33:51.851374Z"
    },
    "papermill": {
     "duration": 0.038581,
     "end_time": "2020-04-16T05:33:51.852033",
     "exception": false,
     "start_time": "2020-04-16T05:33:51.813452",
     "status": "completed"
    },
    "tags": []
   },
   "outputs": [
    {
     "data": {
      "text/html": [
       "<div>\n",
       "<style scoped>\n",
       "    .dataframe tbody tr th:only-of-type {\n",
       "        vertical-align: middle;\n",
       "    }\n",
       "\n",
       "    .dataframe tbody tr th {\n",
       "        vertical-align: top;\n",
       "    }\n",
       "\n",
       "    .dataframe thead th {\n",
       "        text-align: right;\n",
       "    }\n",
       "</style>\n",
       "<table border=\"1\" class=\"dataframe\">\n",
       "  <thead>\n",
       "    <tr style=\"text-align: right;\">\n",
       "      <th></th>\n",
       "      <th>FIPS</th>\n",
       "      <th>Admin2</th>\n",
       "      <th>Province_State</th>\n",
       "      <th>Country_Region</th>\n",
       "      <th>Last_Update</th>\n",
       "      <th>Lat</th>\n",
       "      <th>Long_</th>\n",
       "      <th>Confirmed</th>\n",
       "      <th>Deaths</th>\n",
       "      <th>Recovered</th>\n",
       "      <th>Active</th>\n",
       "      <th>Combined_Key</th>\n",
       "    </tr>\n",
       "  </thead>\n",
       "  <tbody>\n",
       "    <tr>\n",
       "      <th>0</th>\n",
       "      <td>45001.0</td>\n",
       "      <td>Abbeville</td>\n",
       "      <td>South Carolina</td>\n",
       "      <td>US</td>\n",
       "      <td>2020-04-15 22:56:51</td>\n",
       "      <td>34.223334</td>\n",
       "      <td>-82.461707</td>\n",
       "      <td>10</td>\n",
       "      <td>0</td>\n",
       "      <td>0</td>\n",
       "      <td>10</td>\n",
       "      <td>Abbeville, South Carolina, US</td>\n",
       "    </tr>\n",
       "    <tr>\n",
       "      <th>1</th>\n",
       "      <td>22001.0</td>\n",
       "      <td>Acadia</td>\n",
       "      <td>Louisiana</td>\n",
       "      <td>US</td>\n",
       "      <td>2020-04-15 22:56:51</td>\n",
       "      <td>30.295065</td>\n",
       "      <td>-92.414197</td>\n",
       "      <td>105</td>\n",
       "      <td>5</td>\n",
       "      <td>0</td>\n",
       "      <td>100</td>\n",
       "      <td>Acadia, Louisiana, US</td>\n",
       "    </tr>\n",
       "    <tr>\n",
       "      <th>2</th>\n",
       "      <td>51001.0</td>\n",
       "      <td>Accomack</td>\n",
       "      <td>Virginia</td>\n",
       "      <td>US</td>\n",
       "      <td>2020-04-15 22:56:51</td>\n",
       "      <td>37.767072</td>\n",
       "      <td>-75.632346</td>\n",
       "      <td>15</td>\n",
       "      <td>0</td>\n",
       "      <td>0</td>\n",
       "      <td>15</td>\n",
       "      <td>Accomack, Virginia, US</td>\n",
       "    </tr>\n",
       "    <tr>\n",
       "      <th>3</th>\n",
       "      <td>16001.0</td>\n",
       "      <td>Ada</td>\n",
       "      <td>Idaho</td>\n",
       "      <td>US</td>\n",
       "      <td>2020-04-15 22:56:51</td>\n",
       "      <td>43.452658</td>\n",
       "      <td>-116.241552</td>\n",
       "      <td>538</td>\n",
       "      <td>9</td>\n",
       "      <td>0</td>\n",
       "      <td>529</td>\n",
       "      <td>Ada, Idaho, US</td>\n",
       "    </tr>\n",
       "    <tr>\n",
       "      <th>4</th>\n",
       "      <td>19001.0</td>\n",
       "      <td>Adair</td>\n",
       "      <td>Iowa</td>\n",
       "      <td>US</td>\n",
       "      <td>2020-04-15 22:56:51</td>\n",
       "      <td>41.330756</td>\n",
       "      <td>-94.471059</td>\n",
       "      <td>1</td>\n",
       "      <td>0</td>\n",
       "      <td>0</td>\n",
       "      <td>1</td>\n",
       "      <td>Adair, Iowa, US</td>\n",
       "    </tr>\n",
       "  </tbody>\n",
       "</table>\n",
       "</div>"
      ],
      "text/plain": [
       "      FIPS     Admin2  Province_State Country_Region          Last_Update  \\\n",
       "0  45001.0  Abbeville  South Carolina             US  2020-04-15 22:56:51   \n",
       "1  22001.0     Acadia       Louisiana             US  2020-04-15 22:56:51   \n",
       "2  51001.0   Accomack        Virginia             US  2020-04-15 22:56:51   \n",
       "3  16001.0        Ada           Idaho             US  2020-04-15 22:56:51   \n",
       "4  19001.0      Adair            Iowa             US  2020-04-15 22:56:51   \n",
       "\n",
       "         Lat       Long_  Confirmed  Deaths  Recovered  Active  \\\n",
       "0  34.223334  -82.461707         10       0          0      10   \n",
       "1  30.295065  -92.414197        105       5          0     100   \n",
       "2  37.767072  -75.632346         15       0          0      15   \n",
       "3  43.452658 -116.241552        538       9          0     529   \n",
       "4  41.330756  -94.471059          1       0          0       1   \n",
       "\n",
       "                    Combined_Key  \n",
       "0  Abbeville, South Carolina, US  \n",
       "1          Acadia, Louisiana, US  \n",
       "2         Accomack, Virginia, US  \n",
       "3                 Ada, Idaho, US  \n",
       "4                Adair, Iowa, US  "
      ]
     },
     "execution_count": 7,
     "metadata": {},
     "output_type": "execute_result"
    }
   ],
   "source": [
    "df.head()"
   ]
  },
  {
   "cell_type": "code",
   "execution_count": 8,
   "metadata": {
    "execution": {
     "iopub.execute_input": "2020-04-16T05:33:51.887373Z",
     "iopub.status.busy": "2020-04-16T05:33:51.886660Z",
     "iopub.status.idle": "2020-04-16T05:33:51.889944Z",
     "shell.execute_reply": "2020-04-16T05:33:51.889428Z"
    },
    "papermill": {
     "duration": 0.024498,
     "end_time": "2020-04-16T05:33:51.890079",
     "exception": false,
     "start_time": "2020-04-16T05:33:51.865581",
     "status": "completed"
    },
    "tags": []
   },
   "outputs": [
    {
     "data": {
      "text/plain": [
       "1663"
      ]
     },
     "execution_count": 8,
     "metadata": {},
     "output_type": "execute_result"
    }
   ],
   "source": [
    "df[df.Province_State==\"Oregon\"]['Confirmed'].sum()"
   ]
  },
  {
   "cell_type": "code",
   "execution_count": 9,
   "metadata": {
    "execution": {
     "iopub.execute_input": "2020-04-16T05:33:51.922971Z",
     "iopub.status.busy": "2020-04-16T05:33:51.922319Z",
     "iopub.status.idle": "2020-04-16T05:33:51.997891Z",
     "shell.execute_reply": "2020-04-16T05:33:51.998388Z"
    },
    "papermill": {
     "duration": 0.094689,
     "end_time": "2020-04-16T05:33:51.998556",
     "exception": false,
     "start_time": "2020-04-16T05:33:51.903867",
     "status": "completed"
    },
    "tags": []
   },
   "outputs": [],
   "source": [
    "import pandas as pd\n",
    "import datetime\n",
    "base_url=\"https://github.com/CSSEGISandData/COVID-19/raw/master/csse_covid_19_data/csse_covid_19_time_series/time_series_covid19_confirmed_global.csv\"\n",
    "df = pd.read_csv(base_url)"
   ]
  },
  {
   "cell_type": "code",
   "execution_count": 10,
   "metadata": {
    "execution": {
     "iopub.execute_input": "2020-04-16T05:33:52.034575Z",
     "iopub.status.busy": "2020-04-16T05:33:52.033949Z",
     "iopub.status.idle": "2020-04-16T05:33:52.035728Z",
     "shell.execute_reply": "2020-04-16T05:33:52.036324Z"
    },
    "papermill": {
     "duration": 0.024158,
     "end_time": "2020-04-16T05:33:52.036469",
     "exception": false,
     "start_time": "2020-04-16T05:33:52.012311",
     "status": "completed"
    },
    "tags": []
   },
   "outputs": [],
   "source": [
    "df = df.drop(['Lat', 'Long'], axis=1)"
   ]
  },
  {
   "cell_type": "code",
   "execution_count": 11,
   "metadata": {
    "execution": {
     "iopub.execute_input": "2020-04-16T05:33:52.071712Z",
     "iopub.status.busy": "2020-04-16T05:33:52.070991Z",
     "iopub.status.idle": "2020-04-16T05:33:52.075512Z",
     "shell.execute_reply": "2020-04-16T05:33:52.074920Z"
    },
    "papermill": {
     "duration": 0.023857,
     "end_time": "2020-04-16T05:33:52.075663",
     "exception": false,
     "start_time": "2020-04-16T05:33:52.051806",
     "status": "completed"
    },
    "tags": []
   },
   "outputs": [],
   "source": [
    "ncountries = sorted(df['Country/Region'].unique().tolist())"
   ]
  },
  {
   "cell_type": "code",
   "execution_count": 12,
   "metadata": {
    "execution": {
     "iopub.execute_input": "2020-04-16T05:33:52.110226Z",
     "iopub.status.busy": "2020-04-16T05:33:52.109604Z",
     "iopub.status.idle": "2020-04-16T05:33:52.112087Z",
     "shell.execute_reply": "2020-04-16T05:33:52.111394Z"
    },
    "papermill": {
     "duration": 0.021618,
     "end_time": "2020-04-16T05:33:52.112245",
     "exception": false,
     "start_time": "2020-04-16T05:33:52.090627",
     "status": "completed"
    },
    "tags": []
   },
   "outputs": [],
   "source": [
    "#ncountries"
   ]
  },
  {
   "cell_type": "code",
   "execution_count": 13,
   "metadata": {
    "execution": {
     "iopub.execute_input": "2020-04-16T05:33:52.150078Z",
     "iopub.status.busy": "2020-04-16T05:33:52.149300Z",
     "iopub.status.idle": "2020-04-16T05:33:53.559096Z",
     "shell.execute_reply": "2020-04-16T05:33:53.559587Z"
    },
    "papermill": {
     "duration": 1.433144,
     "end_time": "2020-04-16T05:33:53.559744",
     "exception": false,
     "start_time": "2020-04-16T05:33:52.126600",
     "status": "completed"
    },
    "tags": []
   },
   "outputs": [],
   "source": [
    "dfa = pd.DataFrame()\n",
    "for i, country in enumerate(ncountries):\n",
    "    dfc = df[df['Country/Region'] == country].copy()\n",
    "    if len(dfc) > 1:\n",
    "        dfc = dfc.drop(['Province/State'], axis=1).groupby('Country/Region').sum().reset_index()\n",
    "    else:\n",
    "        dfc = dfc.drop(['Province/State'], axis=1)\n",
    "    dfc2 = dfc.melt(id_vars=[\"Country/Region\"], \n",
    "                        var_name=\"Date\",\n",
    "                        value_name=\"cases\")\n",
    "    dfc2 = dfc2.rename({'Country/Region': 'country'}, axis=1)\n",
    "    dfa = dfa.append(dfc2)"
   ]
  },
  {
   "cell_type": "code",
   "execution_count": 14,
   "metadata": {
    "execution": {
     "iopub.execute_input": "2020-04-16T05:33:53.601260Z",
     "iopub.status.busy": "2020-04-16T05:33:53.600652Z",
     "iopub.status.idle": "2020-04-16T05:33:53.603661Z",
     "shell.execute_reply": "2020-04-16T05:33:53.603162Z"
    },
    "papermill": {
     "duration": 0.029938,
     "end_time": "2020-04-16T05:33:53.603788",
     "exception": false,
     "start_time": "2020-04-16T05:33:53.573850",
     "status": "completed"
    },
    "tags": []
   },
   "outputs": [
    {
     "data": {
      "text/html": [
       "<div>\n",
       "<style scoped>\n",
       "    .dataframe tbody tr th:only-of-type {\n",
       "        vertical-align: middle;\n",
       "    }\n",
       "\n",
       "    .dataframe tbody tr th {\n",
       "        vertical-align: top;\n",
       "    }\n",
       "\n",
       "    .dataframe thead th {\n",
       "        text-align: right;\n",
       "    }\n",
       "</style>\n",
       "<table border=\"1\" class=\"dataframe\">\n",
       "  <thead>\n",
       "    <tr style=\"text-align: right;\">\n",
       "      <th></th>\n",
       "      <th>country</th>\n",
       "      <th>Date</th>\n",
       "      <th>cases</th>\n",
       "    </tr>\n",
       "  </thead>\n",
       "  <tbody>\n",
       "    <tr>\n",
       "      <th>65</th>\n",
       "      <td>France</td>\n",
       "      <td>3/27/20</td>\n",
       "      <td>33402</td>\n",
       "    </tr>\n",
       "    <tr>\n",
       "      <th>66</th>\n",
       "      <td>France</td>\n",
       "      <td>3/28/20</td>\n",
       "      <td>38105</td>\n",
       "    </tr>\n",
       "    <tr>\n",
       "      <th>67</th>\n",
       "      <td>France</td>\n",
       "      <td>3/29/20</td>\n",
       "      <td>40708</td>\n",
       "    </tr>\n",
       "    <tr>\n",
       "      <th>68</th>\n",
       "      <td>France</td>\n",
       "      <td>3/30/20</td>\n",
       "      <td>45170</td>\n",
       "    </tr>\n",
       "    <tr>\n",
       "      <th>69</th>\n",
       "      <td>France</td>\n",
       "      <td>3/31/20</td>\n",
       "      <td>52827</td>\n",
       "    </tr>\n",
       "    <tr>\n",
       "      <th>70</th>\n",
       "      <td>France</td>\n",
       "      <td>4/1/20</td>\n",
       "      <td>57749</td>\n",
       "    </tr>\n",
       "    <tr>\n",
       "      <th>71</th>\n",
       "      <td>France</td>\n",
       "      <td>4/2/20</td>\n",
       "      <td>59929</td>\n",
       "    </tr>\n",
       "    <tr>\n",
       "      <th>72</th>\n",
       "      <td>France</td>\n",
       "      <td>4/3/20</td>\n",
       "      <td>65202</td>\n",
       "    </tr>\n",
       "    <tr>\n",
       "      <th>73</th>\n",
       "      <td>France</td>\n",
       "      <td>4/4/20</td>\n",
       "      <td>90848</td>\n",
       "    </tr>\n",
       "    <tr>\n",
       "      <th>74</th>\n",
       "      <td>France</td>\n",
       "      <td>4/5/20</td>\n",
       "      <td>93773</td>\n",
       "    </tr>\n",
       "    <tr>\n",
       "      <th>75</th>\n",
       "      <td>France</td>\n",
       "      <td>4/6/20</td>\n",
       "      <td>98963</td>\n",
       "    </tr>\n",
       "    <tr>\n",
       "      <th>76</th>\n",
       "      <td>France</td>\n",
       "      <td>4/7/20</td>\n",
       "      <td>110065</td>\n",
       "    </tr>\n",
       "    <tr>\n",
       "      <th>77</th>\n",
       "      <td>France</td>\n",
       "      <td>4/8/20</td>\n",
       "      <td>113959</td>\n",
       "    </tr>\n",
       "    <tr>\n",
       "      <th>78</th>\n",
       "      <td>France</td>\n",
       "      <td>4/9/20</td>\n",
       "      <td>118781</td>\n",
       "    </tr>\n",
       "    <tr>\n",
       "      <th>79</th>\n",
       "      <td>France</td>\n",
       "      <td>4/10/20</td>\n",
       "      <td>125931</td>\n",
       "    </tr>\n",
       "    <tr>\n",
       "      <th>80</th>\n",
       "      <td>France</td>\n",
       "      <td>4/11/20</td>\n",
       "      <td>130727</td>\n",
       "    </tr>\n",
       "    <tr>\n",
       "      <th>81</th>\n",
       "      <td>France</td>\n",
       "      <td>4/12/20</td>\n",
       "      <td>133670</td>\n",
       "    </tr>\n",
       "    <tr>\n",
       "      <th>82</th>\n",
       "      <td>France</td>\n",
       "      <td>4/13/20</td>\n",
       "      <td>137875</td>\n",
       "    </tr>\n",
       "    <tr>\n",
       "      <th>83</th>\n",
       "      <td>France</td>\n",
       "      <td>4/14/20</td>\n",
       "      <td>131361</td>\n",
       "    </tr>\n",
       "    <tr>\n",
       "      <th>84</th>\n",
       "      <td>France</td>\n",
       "      <td>4/15/20</td>\n",
       "      <td>134582</td>\n",
       "    </tr>\n",
       "  </tbody>\n",
       "</table>\n",
       "</div>"
      ],
      "text/plain": [
       "   country     Date   cases\n",
       "65  France  3/27/20   33402\n",
       "66  France  3/28/20   38105\n",
       "67  France  3/29/20   40708\n",
       "68  France  3/30/20   45170\n",
       "69  France  3/31/20   52827\n",
       "70  France   4/1/20   57749\n",
       "71  France   4/2/20   59929\n",
       "72  France   4/3/20   65202\n",
       "73  France   4/4/20   90848\n",
       "74  France   4/5/20   93773\n",
       "75  France   4/6/20   98963\n",
       "76  France   4/7/20  110065\n",
       "77  France   4/8/20  113959\n",
       "78  France   4/9/20  118781\n",
       "79  France  4/10/20  125931\n",
       "80  France  4/11/20  130727\n",
       "81  France  4/12/20  133670\n",
       "82  France  4/13/20  137875\n",
       "83  France  4/14/20  131361\n",
       "84  France  4/15/20  134582"
      ]
     },
     "execution_count": 14,
     "metadata": {},
     "output_type": "execute_result"
    }
   ],
   "source": [
    "dfa[dfa.country==\"France\"].tail(20)"
   ]
  },
  {
   "cell_type": "code",
   "execution_count": 15,
   "metadata": {
    "execution": {
     "iopub.execute_input": "2020-04-16T05:33:53.637971Z",
     "iopub.status.busy": "2020-04-16T05:33:53.637362Z",
     "iopub.status.idle": "2020-04-16T05:33:53.641407Z",
     "shell.execute_reply": "2020-04-16T05:33:53.641964Z"
    },
    "papermill": {
     "duration": 0.023963,
     "end_time": "2020-04-16T05:33:53.642089",
     "exception": false,
     "start_time": "2020-04-16T05:33:53.618126",
     "status": "completed"
    },
    "tags": []
   },
   "outputs": [
    {
     "data": {
      "text/plain": [
       "185"
      ]
     },
     "execution_count": 15,
     "metadata": {},
     "output_type": "execute_result"
    }
   ],
   "source": [
    "dfa.country.nunique()"
   ]
  }
 ],
 "metadata": {
  "kernelspec": {
   "display_name": "Python 3",
   "language": "python",
   "name": "python3"
  },
  "language_info": {
   "codemirror_mode": {
    "name": "ipython",
    "version": 3
   },
   "file_extension": ".py",
   "mimetype": "text/x-python",
   "name": "python",
   "nbconvert_exporter": "python",
   "pygments_lexer": "ipython3",
   "version": "3.6.10"
  },
  "papermill": {
   "duration": 9.482747,
   "end_time": "2020-04-16T05:33:53.764140",
   "environment_variables": {},
   "exception": null,
   "input_path": "covid_tracking.ipynb",
   "output_path": "covid_tracking.ipynb",
   "parameters": {},
   "start_time": "2020-04-16T05:33:44.281393",
   "version": "2.1.0"
  }
 },
 "nbformat": 4,
 "nbformat_minor": 4
}