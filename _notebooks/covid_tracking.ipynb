{
 "cells": [
  {
   "cell_type": "code",
   "execution_count": 1,
   "metadata": {
    "execution": {
     "iopub.execute_input": "2020-04-18T23:21:16.995189Z",
     "iopub.status.busy": "2020-04-18T23:21:16.994763Z",
     "iopub.status.idle": "2020-04-18T23:21:20.844555Z",
     "shell.execute_reply": "2020-04-18T23:21:20.843631Z"
    },
    "papermill": {
     "duration": 3.866912,
     "end_time": "2020-04-18T23:21:20.844767",
     "exception": false,
     "start_time": "2020-04-18T23:21:16.977855",
     "status": "completed"
    },
    "tags": []
   },
   "outputs": [],
   "source": [
    "import pandas as pd\n",
    "import seaborn as sns\n",
    "import matplotlib.pyplot as plt"
   ]
  },
  {
   "cell_type": "code",
   "execution_count": 2,
   "metadata": {
    "execution": {
     "iopub.execute_input": "2020-04-18T23:21:20.871807Z",
     "iopub.status.busy": "2020-04-18T23:21:20.871286Z",
     "iopub.status.idle": "2020-04-18T23:21:21.367295Z",
     "shell.execute_reply": "2020-04-18T23:21:21.366448Z"
    },
    "papermill": {
     "duration": 0.512604,
     "end_time": "2020-04-18T23:21:21.367460",
     "exception": false,
     "start_time": "2020-04-18T23:21:20.854856",
     "status": "completed"
    },
    "tags": []
   },
   "outputs": [],
   "source": [
    "df = pd.read_csv('http://covidtracking.com/api/states/daily.csv')\n",
    "states = df.state.unique()\n",
    "\n",
    "dfk = pd.DataFrame()\n",
    "for s in states:\n",
    "    dfs = df[df.state==s].copy()\n",
    "    dfs['tested'] = dfs['positive'] + dfs['negative']\n",
    "    dfs['daily_positive_increase'] = dfs['positive'].diff(periods=-1)\n",
    "    dfs['daily_death_increase'] = dfs['death'].diff(periods=-1)\n",
    "    dfs['daily_tested_increase'] = dfs['tested'].diff(periods=-1)\n",
    "    dfk = dfk.append(dfs)\n",
    "    \n",
    "dfk = dfk.fillna(0)\n",
    "df_la = dfk[dfk.state==\"LA\"]"
   ]
  },
  {
   "cell_type": "code",
   "execution_count": 3,
   "metadata": {
    "execution": {
     "iopub.execute_input": "2020-04-18T23:21:21.403751Z",
     "iopub.status.busy": "2020-04-18T23:21:21.401979Z",
     "iopub.status.idle": "2020-04-18T23:21:21.414467Z",
     "shell.execute_reply": "2020-04-18T23:21:21.414906Z"
    },
    "papermill": {
     "duration": 0.035847,
     "end_time": "2020-04-18T23:21:21.415014",
     "exception": false,
     "start_time": "2020-04-18T23:21:21.379167",
     "status": "completed"
    },
    "tags": []
   },
   "outputs": [
    {
     "data": {
      "text/html": [
       "<div>\n",
       "<style scoped>\n",
       "    .dataframe tbody tr th:only-of-type {\n",
       "        vertical-align: middle;\n",
       "    }\n",
       "\n",
       "    .dataframe tbody tr th {\n",
       "        vertical-align: top;\n",
       "    }\n",
       "\n",
       "    .dataframe thead th {\n",
       "        text-align: right;\n",
       "    }\n",
       "</style>\n",
       "<table border=\"1\" class=\"dataframe\">\n",
       "  <thead>\n",
       "    <tr style=\"text-align: right;\">\n",
       "      <th></th>\n",
       "      <th>date</th>\n",
       "      <th>state</th>\n",
       "      <th>positive</th>\n",
       "      <th>negative</th>\n",
       "      <th>pending</th>\n",
       "      <th>hospitalizedCurrently</th>\n",
       "      <th>hospitalizedCumulative</th>\n",
       "      <th>inIcuCurrently</th>\n",
       "      <th>inIcuCumulative</th>\n",
       "      <th>onVentilatorCurrently</th>\n",
       "      <th>...</th>\n",
       "      <th>fips</th>\n",
       "      <th>deathIncrease</th>\n",
       "      <th>hospitalizedIncrease</th>\n",
       "      <th>negativeIncrease</th>\n",
       "      <th>positiveIncrease</th>\n",
       "      <th>totalTestResultsIncrease</th>\n",
       "      <th>tested</th>\n",
       "      <th>daily_positive_increase</th>\n",
       "      <th>daily_death_increase</th>\n",
       "      <th>daily_tested_increase</th>\n",
       "    </tr>\n",
       "  </thead>\n",
       "  <tbody>\n",
       "    <tr>\n",
       "      <th>20</th>\n",
       "      <td>20200418</td>\n",
       "      <td>LA</td>\n",
       "      <td>23580.0</td>\n",
       "      <td>114419.0</td>\n",
       "      <td>0.0</td>\n",
       "      <td>1761.0</td>\n",
       "      <td>0.0</td>\n",
       "      <td>0.0</td>\n",
       "      <td>0.0</td>\n",
       "      <td>347.0</td>\n",
       "      <td>...</td>\n",
       "      <td>22</td>\n",
       "      <td>54.0</td>\n",
       "      <td>0.0</td>\n",
       "      <td>5550.0</td>\n",
       "      <td>462.0</td>\n",
       "      <td>6012.0</td>\n",
       "      <td>137999.0</td>\n",
       "      <td>462.0</td>\n",
       "      <td>54.0</td>\n",
       "      <td>6012.0</td>\n",
       "    </tr>\n",
       "    <tr>\n",
       "      <th>76</th>\n",
       "      <td>20200417</td>\n",
       "      <td>LA</td>\n",
       "      <td>23118.0</td>\n",
       "      <td>108869.0</td>\n",
       "      <td>0.0</td>\n",
       "      <td>1868.0</td>\n",
       "      <td>0.0</td>\n",
       "      <td>0.0</td>\n",
       "      <td>0.0</td>\n",
       "      <td>363.0</td>\n",
       "      <td>...</td>\n",
       "      <td>22</td>\n",
       "      <td>57.0</td>\n",
       "      <td>0.0</td>\n",
       "      <td>4815.0</td>\n",
       "      <td>586.0</td>\n",
       "      <td>5401.0</td>\n",
       "      <td>131987.0</td>\n",
       "      <td>586.0</td>\n",
       "      <td>57.0</td>\n",
       "      <td>5401.0</td>\n",
       "    </tr>\n",
       "    <tr>\n",
       "      <th>132</th>\n",
       "      <td>20200416</td>\n",
       "      <td>LA</td>\n",
       "      <td>22532.0</td>\n",
       "      <td>104054.0</td>\n",
       "      <td>0.0</td>\n",
       "      <td>1914.0</td>\n",
       "      <td>0.0</td>\n",
       "      <td>0.0</td>\n",
       "      <td>0.0</td>\n",
       "      <td>396.0</td>\n",
       "      <td>...</td>\n",
       "      <td>22</td>\n",
       "      <td>53.0</td>\n",
       "      <td>0.0</td>\n",
       "      <td>4077.0</td>\n",
       "      <td>581.0</td>\n",
       "      <td>4658.0</td>\n",
       "      <td>126586.0</td>\n",
       "      <td>581.0</td>\n",
       "      <td>53.0</td>\n",
       "      <td>4658.0</td>\n",
       "    </tr>\n",
       "    <tr>\n",
       "      <th>188</th>\n",
       "      <td>20200415</td>\n",
       "      <td>LA</td>\n",
       "      <td>21951.0</td>\n",
       "      <td>99977.0</td>\n",
       "      <td>0.0</td>\n",
       "      <td>1943.0</td>\n",
       "      <td>0.0</td>\n",
       "      <td>0.0</td>\n",
       "      <td>0.0</td>\n",
       "      <td>425.0</td>\n",
       "      <td>...</td>\n",
       "      <td>22</td>\n",
       "      <td>90.0</td>\n",
       "      <td>0.0</td>\n",
       "      <td>3073.0</td>\n",
       "      <td>433.0</td>\n",
       "      <td>3506.0</td>\n",
       "      <td>121928.0</td>\n",
       "      <td>433.0</td>\n",
       "      <td>90.0</td>\n",
       "      <td>3506.0</td>\n",
       "    </tr>\n",
       "    <tr>\n",
       "      <th>244</th>\n",
       "      <td>20200414</td>\n",
       "      <td>LA</td>\n",
       "      <td>21518.0</td>\n",
       "      <td>96904.0</td>\n",
       "      <td>0.0</td>\n",
       "      <td>1977.0</td>\n",
       "      <td>0.0</td>\n",
       "      <td>0.0</td>\n",
       "      <td>0.0</td>\n",
       "      <td>436.0</td>\n",
       "      <td>...</td>\n",
       "      <td>22</td>\n",
       "      <td>129.0</td>\n",
       "      <td>0.0</td>\n",
       "      <td>9829.0</td>\n",
       "      <td>502.0</td>\n",
       "      <td>10331.0</td>\n",
       "      <td>118422.0</td>\n",
       "      <td>502.0</td>\n",
       "      <td>129.0</td>\n",
       "      <td>10331.0</td>\n",
       "    </tr>\n",
       "  </tbody>\n",
       "</table>\n",
       "<p>5 rows × 29 columns</p>\n",
       "</div>"
      ],
      "text/plain": [
       "         date state  positive  negative  pending  hospitalizedCurrently  \\\n",
       "20   20200418    LA   23580.0  114419.0      0.0                 1761.0   \n",
       "76   20200417    LA   23118.0  108869.0      0.0                 1868.0   \n",
       "132  20200416    LA   22532.0  104054.0      0.0                 1914.0   \n",
       "188  20200415    LA   21951.0   99977.0      0.0                 1943.0   \n",
       "244  20200414    LA   21518.0   96904.0      0.0                 1977.0   \n",
       "\n",
       "     hospitalizedCumulative  inIcuCurrently  inIcuCumulative  \\\n",
       "20                      0.0             0.0              0.0   \n",
       "76                      0.0             0.0              0.0   \n",
       "132                     0.0             0.0              0.0   \n",
       "188                     0.0             0.0              0.0   \n",
       "244                     0.0             0.0              0.0   \n",
       "\n",
       "     onVentilatorCurrently  ...  fips  deathIncrease hospitalizedIncrease  \\\n",
       "20                   347.0  ...    22           54.0                  0.0   \n",
       "76                   363.0  ...    22           57.0                  0.0   \n",
       "132                  396.0  ...    22           53.0                  0.0   \n",
       "188                  425.0  ...    22           90.0                  0.0   \n",
       "244                  436.0  ...    22          129.0                  0.0   \n",
       "\n",
       "    negativeIncrease  positiveIncrease  totalTestResultsIncrease    tested  \\\n",
       "20            5550.0             462.0                    6012.0  137999.0   \n",
       "76            4815.0             586.0                    5401.0  131987.0   \n",
       "132           4077.0             581.0                    4658.0  126586.0   \n",
       "188           3073.0             433.0                    3506.0  121928.0   \n",
       "244           9829.0             502.0                   10331.0  118422.0   \n",
       "\n",
       "     daily_positive_increase  daily_death_increase  daily_tested_increase  \n",
       "20                     462.0                  54.0                 6012.0  \n",
       "76                     586.0                  57.0                 5401.0  \n",
       "132                    581.0                  53.0                 4658.0  \n",
       "188                    433.0                  90.0                 3506.0  \n",
       "244                    502.0                 129.0                10331.0  \n",
       "\n",
       "[5 rows x 29 columns]"
      ]
     },
     "execution_count": 3,
     "metadata": {},
     "output_type": "execute_result"
    }
   ],
   "source": [
    "df_la.head()"
   ]
  },
  {
   "cell_type": "code",
   "execution_count": 4,
   "metadata": {
    "execution": {
     "iopub.execute_input": "2020-04-18T23:21:21.469189Z",
     "iopub.status.busy": "2020-04-18T23:21:21.438613Z",
     "iopub.status.idle": "2020-04-18T23:21:22.062531Z",
     "shell.execute_reply": "2020-04-18T23:21:22.061902Z"
    },
    "papermill": {
     "duration": 0.639754,
     "end_time": "2020-04-18T23:21:22.062626",
     "exception": false,
     "start_time": "2020-04-18T23:21:21.422872",
     "status": "completed"
    },
    "tags": []
   },
   "outputs": [
    {
     "data": {
      "image/png": "[encoded data removed]",
      "text/plain": [
       "<Figure size 842.4x595.44 with 1 Axes>"
      ]
     },
     "metadata": {},
     "output_type": "display_data"
    }
   ],
   "source": [
    "sns.set(rc={'figure.figsize':(11.7,8.27)})\n",
    "ax = sns.barplot(x='date', y= 'daily_positive_increase', data=df_la)\n",
    "ax.set_xticklabels(ax.get_xticklabels(), rotation=40, ha=\"right\")\n",
    "plt.tight_layout()\n",
    "plt.show()"
   ]
  },
  {
   "cell_type": "code",
   "execution_count": 5,
   "metadata": {
    "execution": {
     "iopub.execute_input": "2020-04-18T23:21:22.088817Z",
     "iopub.status.busy": "2020-04-18T23:21:22.088404Z",
     "iopub.status.idle": "2020-04-18T23:21:22.092866Z",
     "shell.execute_reply": "2020-04-18T23:21:22.093181Z"
    },
    "papermill": {
     "duration": 0.020749,
     "end_time": "2020-04-18T23:21:22.093265",
     "exception": false,
     "start_time": "2020-04-18T23:21:22.072516",
     "status": "completed"
    },
    "tags": []
   },
   "outputs": [
    {
     "data": {
      "text/plain": [
       "date                                                        20200418\n",
       "state                                                             OR\n",
       "positive                                                        1844\n",
       "negative                                                       35739\n",
       "pending                                                            0\n",
       "hospitalizedCurrently                                            290\n",
       "hospitalizedCumulative                                           449\n",
       "inIcuCurrently                                                    74\n",
       "inIcuCumulative                                                    0\n",
       "onVentilatorCurrently                                             37\n",
       "onVentilatorCumulative                                             0\n",
       "recovered                                                          0\n",
       "hash                        b64d78255c9b7f2dcb0331cd990d010ddf9c0390\n",
       "dateChecked                                     2020-04-18T20:00:00Z\n",
       "death                                                             72\n",
       "hospitalized                                                     449\n",
       "total                                                          37583\n",
       "totalTestResults                                               37583\n",
       "posNeg                                                         37583\n",
       "fips                                                              41\n",
       "deathIncrease                                                      2\n",
       "hospitalizedIncrease                                              22\n",
       "negativeIncrease                                                1203\n",
       "positiveIncrease                                                  59\n",
       "totalTestResultsIncrease                                        1262\n",
       "tested                                                         37583\n",
       "daily_positive_increase                                           59\n",
       "daily_death_increase                                               2\n",
       "daily_tested_increase                                           1262\n",
       "Name: 40, dtype: object"
      ]
     },
     "execution_count": 5,
     "metadata": {},
     "output_type": "execute_result"
    }
   ],
   "source": [
    "dfk[dfk.state==\"OR\"].iloc[0]"
   ]
  },
  {
   "cell_type": "code",
   "execution_count": 6,
   "metadata": {
    "execution": {
     "iopub.execute_input": "2020-04-18T23:21:22.117280Z",
     "iopub.status.busy": "2020-04-18T23:21:22.116871Z",
     "iopub.status.idle": "2020-04-18T23:21:22.395545Z",
     "shell.execute_reply": "2020-04-18T23:21:22.395145Z"
    },
    "papermill": {
     "duration": 0.292553,
     "end_time": "2020-04-18T23:21:22.395630",
     "exception": false,
     "start_time": "2020-04-18T23:21:22.103077",
     "status": "completed"
    },
    "tags": []
   },
   "outputs": [],
   "source": [
    "import pandas as pd\n",
    "import datetime\n",
    "base_url=\"https://raw.githubusercontent.com/CSSEGISandData/COVID-19/master/csse_covid_19_data/csse_covid_19_daily_reports/\"\n",
    "yesterday = f\"{datetime.datetime.now() - datetime.timedelta(days=1):%m-%d-%Y}\"\n",
    "full_url = f\"{base_url}{yesterday}.csv\"\n",
    "df = pd.read_csv(full_url)"
   ]
  },
  {
   "cell_type": "code",
   "execution_count": 7,
   "metadata": {
    "execution": {
     "iopub.execute_input": "2020-04-18T23:21:22.425778Z",
     "iopub.status.busy": "2020-04-18T23:21:22.425372Z",
     "iopub.status.idle": "2020-04-18T23:21:22.430580Z",
     "shell.execute_reply": "2020-04-18T23:21:22.429922Z"
    },
    "papermill": {
     "duration": 0.02607,
     "end_time": "2020-04-18T23:21:22.430665",
     "exception": false,
     "start_time": "2020-04-18T23:21:22.404595",
     "status": "completed"
    },
    "tags": []
   },
   "outputs": [
    {
     "data": {
      "text/html": [
       "<div>\n",
       "<style scoped>\n",
       "    .dataframe tbody tr th:only-of-type {\n",
       "        vertical-align: middle;\n",
       "    }\n",
       "\n",
       "    .dataframe tbody tr th {\n",
       "        vertical-align: top;\n",
       "    }\n",
       "\n",
       "    .dataframe thead th {\n",
       "        text-align: right;\n",
       "    }\n",
       "</style>\n",
       "<table border=\"1\" class=\"dataframe\">\n",
       "  <thead>\n",
       "    <tr style=\"text-align: right;\">\n",
       "      <th></th>\n",
       "      <th>FIPS</th>\n",
       "      <th>Admin2</th>\n",
       "      <th>Province_State</th>\n",
       "      <th>Country_Region</th>\n",
       "      <th>Last_Update</th>\n",
       "      <th>Lat</th>\n",
       "      <th>Long_</th>\n",
       "      <th>Confirmed</th>\n",
       "      <th>Deaths</th>\n",
       "      <th>Recovered</th>\n",
       "      <th>Active</th>\n",
       "      <th>Combined_Key</th>\n",
       "    </tr>\n",
       "  </thead>\n",
       "  <tbody>\n",
       "    <tr>\n",
       "      <th>0</th>\n",
       "      <td>45001.0</td>\n",
       "      <td>Abbeville</td>\n",
       "      <td>South Carolina</td>\n",
       "      <td>US</td>\n",
       "      <td>2020-04-17 23:30:52</td>\n",
       "      <td>34.223334</td>\n",
       "      <td>-82.461707</td>\n",
       "      <td>10</td>\n",
       "      <td>0</td>\n",
       "      <td>0</td>\n",
       "      <td>10</td>\n",
       "      <td>Abbeville, South Carolina, US</td>\n",
       "    </tr>\n",
       "    <tr>\n",
       "      <th>1</th>\n",
       "      <td>22001.0</td>\n",
       "      <td>Acadia</td>\n",
       "      <td>Louisiana</td>\n",
       "      <td>US</td>\n",
       "      <td>2020-04-17 23:30:52</td>\n",
       "      <td>30.295065</td>\n",
       "      <td>-92.414197</td>\n",
       "      <td>110</td>\n",
       "      <td>6</td>\n",
       "      <td>0</td>\n",
       "      <td>104</td>\n",
       "      <td>Acadia, Louisiana, US</td>\n",
       "    </tr>\n",
       "    <tr>\n",
       "      <th>2</th>\n",
       "      <td>51001.0</td>\n",
       "      <td>Accomack</td>\n",
       "      <td>Virginia</td>\n",
       "      <td>US</td>\n",
       "      <td>2020-04-17 23:30:52</td>\n",
       "      <td>37.767072</td>\n",
       "      <td>-75.632346</td>\n",
       "      <td>28</td>\n",
       "      <td>0</td>\n",
       "      <td>0</td>\n",
       "      <td>28</td>\n",
       "      <td>Accomack, Virginia, US</td>\n",
       "    </tr>\n",
       "    <tr>\n",
       "      <th>3</th>\n",
       "      <td>16001.0</td>\n",
       "      <td>Ada</td>\n",
       "      <td>Idaho</td>\n",
       "      <td>US</td>\n",
       "      <td>2020-04-17 23:30:52</td>\n",
       "      <td>43.452658</td>\n",
       "      <td>-116.241552</td>\n",
       "      <td>576</td>\n",
       "      <td>9</td>\n",
       "      <td>0</td>\n",
       "      <td>567</td>\n",
       "      <td>Ada, Idaho, US</td>\n",
       "    </tr>\n",
       "    <tr>\n",
       "      <th>4</th>\n",
       "      <td>19001.0</td>\n",
       "      <td>Adair</td>\n",
       "      <td>Iowa</td>\n",
       "      <td>US</td>\n",
       "      <td>2020-04-17 23:30:52</td>\n",
       "      <td>41.330756</td>\n",
       "      <td>-94.471059</td>\n",
       "      <td>1</td>\n",
       "      <td>0</td>\n",
       "      <td>0</td>\n",
       "      <td>1</td>\n",
       "      <td>Adair, Iowa, US</td>\n",
       "    </tr>\n",
       "  </tbody>\n",
       "</table>\n",
       "</div>"
      ],
      "text/plain": [
       "      FIPS     Admin2  Province_State Country_Region          Last_Update  \\\n",
       "0  45001.0  Abbeville  South Carolina             US  2020-04-17 23:30:52   \n",
       "1  22001.0     Acadia       Louisiana             US  2020-04-17 23:30:52   \n",
       "2  51001.0   Accomack        Virginia             US  2020-04-17 23:30:52   \n",
       "3  16001.0        Ada           Idaho             US  2020-04-17 23:30:52   \n",
       "4  19001.0      Adair            Iowa             US  2020-04-17 23:30:52   \n",
       "\n",
       "         Lat       Long_  Confirmed  Deaths  Recovered  Active  \\\n",
       "0  34.223334  -82.461707         10       0          0      10   \n",
       "1  30.295065  -92.414197        110       6          0     104   \n",
       "2  37.767072  -75.632346         28       0          0      28   \n",
       "3  43.452658 -116.241552        576       9          0     567   \n",
       "4  41.330756  -94.471059          1       0          0       1   \n",
       "\n",
       "                    Combined_Key  \n",
       "0  Abbeville, South Carolina, US  \n",
       "1          Acadia, Louisiana, US  \n",
       "2         Accomack, Virginia, US  \n",
       "3                 Ada, Idaho, US  \n",
       "4                Adair, Iowa, US  "
      ]
     },
     "execution_count": 7,
     "metadata": {},
     "output_type": "execute_result"
    }
   ],
   "source": [
    "df.head()"
   ]
  },
  {
   "cell_type": "code",
   "execution_count": 8,
   "metadata": {
    "execution": {
     "iopub.execute_input": "2020-04-18T23:21:22.456699Z",
     "iopub.status.busy": "2020-04-18T23:21:22.456227Z",
     "iopub.status.idle": "2020-04-18T23:21:22.458964Z",
     "shell.execute_reply": "2020-04-18T23:21:22.459407Z"
    },
    "papermill": {
     "duration": 0.018262,
     "end_time": "2020-04-18T23:21:22.459513",
     "exception": false,
     "start_time": "2020-04-18T23:21:22.441251",
     "status": "completed"
    },
    "tags": []
   },
   "outputs": [
    {
     "data": {
      "text/plain": [
       "1785"
      ]
     },
     "execution_count": 8,
     "metadata": {},
     "output_type": "execute_result"
    }
   ],
   "source": [
    "df[df.Province_State==\"Oregon\"]['Confirmed'].sum()"
   ]
  },
  {
   "cell_type": "code",
   "execution_count": 9,
   "metadata": {
    "execution": {
     "iopub.execute_input": "2020-04-18T23:21:22.487570Z",
     "iopub.status.busy": "2020-04-18T23:21:22.485872Z",
     "iopub.status.idle": "2020-04-18T23:21:22.653051Z",
     "shell.execute_reply": "2020-04-18T23:21:22.653380Z"
    },
    "papermill": {
     "duration": 0.181885,
     "end_time": "2020-04-18T23:21:22.653480",
     "exception": false,
     "start_time": "2020-04-18T23:21:22.471595",
     "status": "completed"
    },
    "tags": []
   },
   "outputs": [],
   "source": [
    "import pandas as pd\n",
    "import datetime\n",
    "base_url=\"https://github.com/CSSEGISandData/COVID-19/raw/master/csse_covid_19_data/csse_covid_19_time_series/time_series_covid19_confirmed_global.csv\"\n",
    "df = pd.read_csv(base_url)"
   ]
  },
  {
   "cell_type": "code",
   "execution_count": 10,
   "metadata": {
    "execution": {
     "iopub.execute_input": "2020-04-18T23:21:24.106988Z",
     "iopub.status.busy": "2020-04-18T23:21:24.105665Z",
     "iopub.status.idle": "2020-04-18T23:21:24.107628Z",
     "shell.execute_reply": "2020-04-18T23:21:24.108075Z"
    },
    "papermill": {
     "duration": 1.366419,
     "end_time": "2020-04-18T23:21:24.108180",
     "exception": false,
     "start_time": "2020-04-18T23:21:22.741761",
     "status": "completed"
    },
    "tags": []
   },
   "outputs": [],
   "source": [
    "df = df.drop(['Lat', 'Long'], axis=1)"
   ]
  },
  {
   "cell_type": "code",
   "execution_count": 11,
   "metadata": {
    "execution": {
     "iopub.execute_input": "2020-04-18T23:21:24.134188Z",
     "iopub.status.busy": "2020-04-18T23:21:24.133728Z",
     "iopub.status.idle": "2020-04-18T23:21:24.137389Z",
     "shell.execute_reply": "2020-04-18T23:21:24.136925Z"
    },
    "papermill": {
     "duration": 0.017008,
     "end_time": "2020-04-18T23:21:24.137469",
     "exception": false,
     "start_time": "2020-04-18T23:21:24.120461",
     "status": "completed"
    },
    "tags": []
   },
   "outputs": [],
   "source": [
    "ncountries = sorted(df['Country/Region'].unique().tolist())"
   ]
  },
  {
   "cell_type": "code",
   "execution_count": 12,
   "metadata": {
    "execution": {
     "iopub.execute_input": "2020-04-18T23:21:24.163992Z",
     "iopub.status.busy": "2020-04-18T23:21:24.163339Z",
     "iopub.status.idle": "2020-04-18T23:21:24.164639Z",
     "shell.execute_reply": "2020-04-18T23:21:24.165122Z"
    },
    "papermill": {
     "duration": 0.016861,
     "end_time": "2020-04-18T23:21:24.165238",
     "exception": false,
     "start_time": "2020-04-18T23:21:24.148377",
     "status": "completed"
    },
    "tags": []
   },
   "outputs": [],
   "source": [
    "#ncountries"
   ]
  },
  {
   "cell_type": "code",
   "execution_count": 13,
   "metadata": {
    "execution": {
     "iopub.execute_input": "2020-04-18T23:21:24.193353Z",
     "iopub.status.busy": "2020-04-18T23:21:24.192813Z",
     "iopub.status.idle": "2020-04-18T23:21:25.145834Z",
     "shell.execute_reply": "2020-04-18T23:21:25.144959Z"
    },
    "papermill": {
     "duration": 0.970672,
     "end_time": "2020-04-18T23:21:25.145945",
     "exception": false,
     "start_time": "2020-04-18T23:21:24.175273",
     "status": "completed"
    },
    "tags": []
   },
   "outputs": [],
   "source": [
    "dfa = pd.DataFrame()\n",
    "for i, country in enumerate(ncountries):\n",
    "    dfc = df[df['Country/Region'] == country].copy()\n",
    "    if len(dfc) > 1:\n",
    "        dfc = dfc.drop(['Province/State'], axis=1).groupby('Country/Region').sum().reset_index()\n",
    "    else:\n",
    "        dfc = dfc.drop(['Province/State'], axis=1)\n",
    "    dfc2 = dfc.melt(id_vars=[\"Country/Region\"], \n",
    "                        var_name=\"Date\",\n",
    "                        value_name=\"cases\")\n",
    "    dfc2 = dfc2.rename({'Country/Region': 'country'}, axis=1)\n",
    "    dfa = dfa.append(dfc2)"
   ]
  },
  {
   "cell_type": "code",
   "execution_count": 14,
   "metadata": {
    "execution": {
     "iopub.execute_input": "2020-04-18T23:21:25.179703Z",
     "iopub.status.busy": "2020-04-18T23:21:25.179121Z",
     "iopub.status.idle": "2020-04-18T23:21:25.181757Z",
     "shell.execute_reply": "2020-04-18T23:21:25.182134Z"
    },
    "papermill": {
     "duration": 0.025149,
     "end_time": "2020-04-18T23:21:25.182234",
     "exception": false,
     "start_time": "2020-04-18T23:21:25.157085",
     "status": "completed"
    },
    "tags": []
   },
   "outputs": [
    {
     "data": {
      "text/html": [
       "<div>\n",
       "<style scoped>\n",
       "    .dataframe tbody tr th:only-of-type {\n",
       "        vertical-align: middle;\n",
       "    }\n",
       "\n",
       "    .dataframe tbody tr th {\n",
       "        vertical-align: top;\n",
       "    }\n",
       "\n",
       "    .dataframe thead th {\n",
       "        text-align: right;\n",
       "    }\n",
       "</style>\n",
       "<table border=\"1\" class=\"dataframe\">\n",
       "  <thead>\n",
       "    <tr style=\"text-align: right;\">\n",
       "      <th></th>\n",
       "      <th>country</th>\n",
       "      <th>Date</th>\n",
       "      <th>cases</th>\n",
       "    </tr>\n",
       "  </thead>\n",
       "  <tbody>\n",
       "    <tr>\n",
       "      <th>67</th>\n",
       "      <td>France</td>\n",
       "      <td>3/29/20</td>\n",
       "      <td>40708</td>\n",
       "    </tr>\n",
       "    <tr>\n",
       "      <th>68</th>\n",
       "      <td>France</td>\n",
       "      <td>3/30/20</td>\n",
       "      <td>45170</td>\n",
       "    </tr>\n",
       "    <tr>\n",
       "      <th>69</th>\n",
       "      <td>France</td>\n",
       "      <td>3/31/20</td>\n",
       "      <td>52827</td>\n",
       "    </tr>\n",
       "    <tr>\n",
       "      <th>70</th>\n",
       "      <td>France</td>\n",
       "      <td>4/1/20</td>\n",
       "      <td>57749</td>\n",
       "    </tr>\n",
       "    <tr>\n",
       "      <th>71</th>\n",
       "      <td>France</td>\n",
       "      <td>4/2/20</td>\n",
       "      <td>59929</td>\n",
       "    </tr>\n",
       "    <tr>\n",
       "      <th>72</th>\n",
       "      <td>France</td>\n",
       "      <td>4/3/20</td>\n",
       "      <td>65202</td>\n",
       "    </tr>\n",
       "    <tr>\n",
       "      <th>73</th>\n",
       "      <td>France</td>\n",
       "      <td>4/4/20</td>\n",
       "      <td>69500</td>\n",
       "    </tr>\n",
       "    <tr>\n",
       "      <th>74</th>\n",
       "      <td>France</td>\n",
       "      <td>4/5/20</td>\n",
       "      <td>71412</td>\n",
       "    </tr>\n",
       "    <tr>\n",
       "      <th>75</th>\n",
       "      <td>France</td>\n",
       "      <td>4/6/20</td>\n",
       "      <td>75343</td>\n",
       "    </tr>\n",
       "    <tr>\n",
       "      <th>76</th>\n",
       "      <td>France</td>\n",
       "      <td>4/7/20</td>\n",
       "      <td>79163</td>\n",
       "    </tr>\n",
       "    <tr>\n",
       "      <th>77</th>\n",
       "      <td>France</td>\n",
       "      <td>4/8/20</td>\n",
       "      <td>83057</td>\n",
       "    </tr>\n",
       "    <tr>\n",
       "      <th>78</th>\n",
       "      <td>France</td>\n",
       "      <td>4/9/20</td>\n",
       "      <td>87366</td>\n",
       "    </tr>\n",
       "    <tr>\n",
       "      <th>79</th>\n",
       "      <td>France</td>\n",
       "      <td>4/10/20</td>\n",
       "      <td>91738</td>\n",
       "    </tr>\n",
       "    <tr>\n",
       "      <th>80</th>\n",
       "      <td>France</td>\n",
       "      <td>4/11/20</td>\n",
       "      <td>94863</td>\n",
       "    </tr>\n",
       "    <tr>\n",
       "      <th>81</th>\n",
       "      <td>France</td>\n",
       "      <td>4/12/20</td>\n",
       "      <td>121712</td>\n",
       "    </tr>\n",
       "    <tr>\n",
       "      <th>82</th>\n",
       "      <td>France</td>\n",
       "      <td>4/13/20</td>\n",
       "      <td>125394</td>\n",
       "    </tr>\n",
       "    <tr>\n",
       "      <th>83</th>\n",
       "      <td>France</td>\n",
       "      <td>4/14/20</td>\n",
       "      <td>131361</td>\n",
       "    </tr>\n",
       "    <tr>\n",
       "      <th>84</th>\n",
       "      <td>France</td>\n",
       "      <td>4/15/20</td>\n",
       "      <td>134582</td>\n",
       "    </tr>\n",
       "    <tr>\n",
       "      <th>85</th>\n",
       "      <td>France</td>\n",
       "      <td>4/16/20</td>\n",
       "      <td>147091</td>\n",
       "    </tr>\n",
       "    <tr>\n",
       "      <th>86</th>\n",
       "      <td>France</td>\n",
       "      <td>4/17/20</td>\n",
       "      <td>149130</td>\n",
       "    </tr>\n",
       "  </tbody>\n",
       "</table>\n",
       "</div>"
      ],
      "text/plain": [
       "   country     Date   cases\n",
       "67  France  3/29/20   40708\n",
       "68  France  3/30/20   45170\n",
       "69  France  3/31/20   52827\n",
       "70  France   4/1/20   57749\n",
       "71  France   4/2/20   59929\n",
       "72  France   4/3/20   65202\n",
       "73  France   4/4/20   69500\n",
       "74  France   4/5/20   71412\n",
       "75  France   4/6/20   75343\n",
       "76  France   4/7/20   79163\n",
       "77  France   4/8/20   83057\n",
       "78  France   4/9/20   87366\n",
       "79  France  4/10/20   91738\n",
       "80  France  4/11/20   94863\n",
       "81  France  4/12/20  121712\n",
       "82  France  4/13/20  125394\n",
       "83  France  4/14/20  131361\n",
       "84  France  4/15/20  134582\n",
       "85  France  4/16/20  147091\n",
       "86  France  4/17/20  149130"
      ]
     },
     "execution_count": 14,
     "metadata": {},
     "output_type": "execute_result"
    }
   ],
   "source": [
    "dfa[dfa.country==\"France\"].tail(20)"
   ]
  },
  {
   "cell_type": "code",
   "execution_count": 15,
   "metadata": {
    "execution": {
     "iopub.execute_input": "2020-04-18T23:21:25.209084Z",
     "iopub.status.busy": "2020-04-18T23:21:25.208615Z",
     "iopub.status.idle": "2020-04-18T23:21:25.212039Z",
     "shell.execute_reply": "2020-04-18T23:21:25.211354Z"
    },
    "papermill": {
     "duration": 0.018088,
     "end_time": "2020-04-18T23:21:25.212139",
     "exception": false,
     "start_time": "2020-04-18T23:21:25.194051",
     "status": "completed"
    },
    "tags": []
   },
   "outputs": [
    {
     "data": {
      "text/plain": [
       "185"
      ]
     },
     "execution_count": 15,
     "metadata": {},
     "output_type": "execute_result"
    }
   ],
   "source": [
    "dfa.country.nunique()"
   ]
  }
 ],
 "metadata": {
  "kernelspec": {
   "display_name": "Python 3",
   "language": "python",
   "name": "python3"
  },
  "language_info": {
   "codemirror_mode": {
    "name": "ipython",
    "version": 3
   },
   "file_extension": ".py",
   "mimetype": "text/x-python",
   "name": "python",
   "nbconvert_exporter": "python",
   "pygments_lexer": "ipython3",
   "version": "3.6.10"
  },
  "papermill": {
   "duration": 9.02546,
   "end_time": "2020-04-18T23:21:25.332387",
   "environment_variables": {},
   "exception": null,
   "input_path": "covid_tracking.ipynb",
   "output_path": "covid_tracking.ipynb",
   "parameters": {},
   "start_time": "2020-04-18T23:21:16.306927",
   "version": "2.1.0"
  }
 },
 "nbformat": 4,
 "nbformat_minor": 4
}